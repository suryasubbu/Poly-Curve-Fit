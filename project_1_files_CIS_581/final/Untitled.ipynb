{
 "cells": [
  {
   "cell_type": "code",
   "execution_count": 62,
   "id": "0bb73275",
   "metadata": {},
   "outputs": [],
   "source": [
    "## packages to handle array and datafram\n",
    "import numpy as np\n",
    "import pandas as pd\n",
    "\n",
    "## Sklearn packages\n",
    "from sklearn import preprocessing\n",
    "from sklearn.linear_model import Ridge\n",
    "from sklearn.preprocessing import PolynomialFeatures\n",
    "import math\n",
    "import matplotlib.pyplot as plt\n",
    "import seaborn as sns\n",
    "from sklearn.model_selection import KFold, cross_val_score\n",
    "import warnings\n",
    "warnings.filterwarnings(\"ignore\")"
   ]
  },
  {
   "cell_type": "code",
   "execution_count": 63,
   "id": "96fce6ca",
   "metadata": {},
   "outputs": [],
   "source": [
    "## Reading the dat files\n",
    "year_train, indicator_train = np.loadtxt(\"train.dat\", usecols=(0,1), unpack=True)\n",
    "year_test, indicator_test = np.loadtxt(\"test.dat\", usecols=(0,1), unpack=True)"
   ]
  },
  {
   "cell_type": "code",
   "execution_count": 64,
   "id": "8623b1d6",
   "metadata": {},
   "outputs": [
    {
     "data": {
      "text/plain": [
       "array([[1998.],\n",
       "       [2008.],\n",
       "       [1975.],\n",
       "       [2004.],\n",
       "       [1980.],\n",
       "       [2002.],\n",
       "       [2007.],\n",
       "       [1979.],\n",
       "       [1992.],\n",
       "       [1982.],\n",
       "       [2017.],\n",
       "       [1991.],\n",
       "       [1981.],\n",
       "       [1977.],\n",
       "       [1976.],\n",
       "       [1973.],\n",
       "       [2001.],\n",
       "       [1999.],\n",
       "       [1974.],\n",
       "       [2003.],\n",
       "       [2005.],\n",
       "       [1993.],\n",
       "       [1988.],\n",
       "       [1994.],\n",
       "       [1997.],\n",
       "       [2018.],\n",
       "       [1989.],\n",
       "       [1987.],\n",
       "       [2012.],\n",
       "       [2019.],\n",
       "       [2000.],\n",
       "       [1971.],\n",
       "       [2006.],\n",
       "       [1970.],\n",
       "       [2021.],\n",
       "       [2014.],\n",
       "       [1986.],\n",
       "       [1984.],\n",
       "       [1978.],\n",
       "       [1996.],\n",
       "       [2015.],\n",
       "       [2020.]])"
      ]
     },
     "execution_count": 64,
     "metadata": {},
     "output_type": "execute_result"
    }
   ],
   "source": [
    "year_train.reshape(-1,1)"
   ]
  },
  {
   "cell_type": "code",
   "execution_count": 65,
   "id": "ed86d93c",
   "metadata": {},
   "outputs": [],
   "source": [
    "train = pd.DataFrame([year_train,indicator_train])\n",
    "train = train.T\n",
    "train.columns = [\"x\",\"y\"]\n",
    "test = pd.DataFrame([year_test,indicator_test])\n",
    "test = test.T\n",
    "test.columns = [\"x\",\"y\"]"
   ]
  },
  {
   "cell_type": "code",
   "execution_count": 66,
   "id": "bbd4bdc9",
   "metadata": {},
   "outputs": [],
   "source": [
    "train[\"scaled_x\"] = (train.x - train.x.mean())/train.x.std()"
   ]
  },
  {
   "cell_type": "code",
   "execution_count": 67,
   "id": "4ddc85c0",
   "metadata": {},
   "outputs": [],
   "source": [
    "test[\"scaled_x\"] = (test.x - test.x.mean())/test.x.std()"
   ]
  },
  {
   "cell_type": "code",
   "execution_count": 68,
   "id": "f860ef3c",
   "metadata": {},
   "outputs": [],
   "source": [
    "def crossvals_poly(alpha,d):\n",
    "    ## crossvalidation\n",
    "    k = 6\n",
    "    cv_method = KFold(n_splits=k, shuffle=False, random_state=None)\n",
    "    scores = []\n",
    "    x_scaled = np.array(train[\"scaled_x\"]).reshape(-1,1)\n",
    "    y = np.array(train.y).reshape(-1,1)\n",
    "    for i, (train_idx, test_idx) in enumerate(cv_method.split(x_scaled, y)):\n",
    "        #splitting train and test\n",
    "        \n",
    "        X_train, y_train = x_scaled[train_idx], y[train_idx]\n",
    "        X_test, y_test = x_scaled[test_idx], y[test_idx]\n",
    "        \n",
    "        \n",
    "        poly = PolynomialFeatures(degree=d)\n",
    "        X_train_scaling_trans = poly.fit_transform(X_train)\n",
    "        X_test_scaling_trans = poly.fit_transform(X_test)\n",
    "\n",
    "        # Ridge Regression\n",
    "        identity_matrix = np.identity(d+1)\n",
    "        w = (np.linalg.inv(X_train_scaling_trans.T @ X_train_scaling_trans + alpha * identity_matrix) @ X_train_scaling_trans.T @ y_train)\n",
    "        y_hat = X_test_scaling_trans @ w\n",
    "\n",
    "        #y_denormalize = (y_hat * Std_train) + Mean_train\n",
    "\n",
    "        score1 = (y_hat - y_test)**2\n",
    "        score2 = score1.mean()\n",
    "        score = math.sqrt(score2)\n",
    "\n",
    "        scores.append(score)\n",
    "    \n",
    "    return np.array(scores).mean()"
   ]
  },
  {
   "cell_type": "code",
   "execution_count": 69,
   "id": "b5d37cae",
   "metadata": {},
   "outputs": [],
   "source": [
    "degree_array = []\n",
    "for d in range(13):\n",
    "    degree_array.append([d,crossvals_poly(0,d)])"
   ]
  },
  {
   "cell_type": "code",
   "execution_count": 70,
   "id": "f567eb60",
   "metadata": {},
   "outputs": [
    {
     "data": {
      "text/plain": [
       "[[0, 1.0155605589711298],\n",
       " [1, 1.0835561617376985],\n",
       " [2, 0.775429312351414],\n",
       " [3, 0.7830016853814872],\n",
       " [4, 0.4934818442563906],\n",
       " [5, 0.5701350133901241],\n",
       " [6, 0.14235262539255328],\n",
       " [7, 0.18750847543324478],\n",
       " [8, 0.14631007432971915],\n",
       " [9, 0.23647291085945565],\n",
       " [10, 0.1648808008707255],\n",
       " [11, 0.6257835765341546],\n",
       " [12, 0.6869783465274861]]"
      ]
     },
     "execution_count": 70,
     "metadata": {},
     "output_type": "execute_result"
    }
   ],
   "source": [
    "degree_array"
   ]
  },
  {
   "cell_type": "code",
   "execution_count": 71,
   "id": "545cdebe",
   "metadata": {},
   "outputs": [],
   "source": [
    "lambda_val_ = [0,math.exp(-25),math.exp(-20),\n",
    "             math.exp(-14),math.exp(-7),\n",
    "             math.exp(-3),1,math.exp(7),\n",
    "             math.exp(3)]\n",
    "lambda_array = []\n",
    "for alpha in lambda_val_:\n",
    "    lambda_array.append([alpha,crossvals_poly(alpha,12)])"
   ]
  },
  {
   "cell_type": "code",
   "execution_count": 72,
   "id": "4c45b653",
   "metadata": {},
   "outputs": [
    {
     "data": {
      "text/plain": [
       "[[0, 0.6869783465274861],\n",
       " [1.3887943864964021e-11, 0.6869783216219808],\n",
       " [2.061153622438558e-09, 0.6869791335472825],\n",
       " [8.315287191035679e-07, 0.6873008674599229],\n",
       " [0.0009118819655545162, 0.40644187027699763],\n",
       " [0.049787068367863944, 0.4471778810356248],\n",
       " [1, 3.84220657023011],\n",
       " [1096.6331584284585, 63.098296953361285],\n",
       " [20.085536923187668, 30.16193152673507]]"
      ]
     },
     "execution_count": 72,
     "metadata": {},
     "output_type": "execute_result"
    }
   ],
   "source": [
    "lambda_array"
   ]
  },
  {
   "cell_type": "code",
   "execution_count": 93,
   "id": "76c407cf",
   "metadata": {},
   "outputs": [],
   "source": [
    "x_scaled = np.array(train[\"scaled_x\"]).reshape(-1,1)\n",
    "\n",
    "X_scaled= np.array(test[\"scaled_x\"]).reshape(-1,1)\n",
    "y = np.array(train.y).reshape(-1,1)\n",
    "d=6\n",
    "poly = PolynomialFeatures(degree=d)\n",
    "X__trans = poly.fit_transform(x_scaled)\n",
    "X_test_trans = poly.fit_transform(X_scaled)\n",
    "identity_matrix = np.identity(d+1)\n",
    "w = (np.linalg.inv((X__trans.T @ X__trans) + (math.exp(-3) * identity_matrix)) @ X__trans.T @ y)\n",
    "y_hat1 = X__trans @ w"
   ]
  },
  {
   "cell_type": "code",
   "execution_count": 94,
   "id": "23a75ecd",
   "metadata": {},
   "outputs": [
    {
     "data": {
      "text/plain": [
       "0.16281526798810722"
      ]
     },
     "execution_count": 94,
     "metadata": {},
     "output_type": "execute_result"
    }
   ],
   "source": [
    "math.sqrt((np.square(y_hat1.flatten()-np.array(train.y)).mean()))"
   ]
  },
  {
   "cell_type": "code",
   "execution_count": 75,
   "id": "1763d22d",
   "metadata": {},
   "outputs": [
    {
     "data": {
      "text/plain": [
       "array([[ 0.20976874],\n",
       "       [ 0.86725283],\n",
       "       [-1.30244469],\n",
       "       [ 0.60425919],\n",
       "       [-0.97370264],\n",
       "       [ 0.47276237],\n",
       "       [ 0.80150442],\n",
       "       [-1.03945105],\n",
       "       [-0.18472172],\n",
       "       [-0.84220582],\n",
       "       [ 1.45898852],\n",
       "       [-0.25047013],\n",
       "       [-0.90795423],\n",
       "       [-1.17094787],\n",
       "       [-1.23669628],\n",
       "       [-1.43394151],\n",
       "       [ 0.40701397],\n",
       "       [ 0.27551715],\n",
       "       [-1.3681931 ],\n",
       "       [ 0.53851078],\n",
       "       [ 0.6700076 ],\n",
       "       [-0.11897331],\n",
       "       [-0.44771536],\n",
       "       [-0.0532249 ],\n",
       "       [ 0.14402033],\n",
       "       [ 1.52473693],\n",
       "       [-0.38196695],\n",
       "       [-0.51346377],\n",
       "       [ 1.13024647],\n",
       "       [ 1.59048534],\n",
       "       [ 0.34126556],\n",
       "       [-1.56543833],\n",
       "       [ 0.73575601],\n",
       "       [-1.63118674],\n",
       "       [ 1.72198216],\n",
       "       [ 1.26174329],\n",
       "       [-0.57921218],\n",
       "       [-0.710709  ],\n",
       "       [-1.10519946],\n",
       "       [ 0.07827192],\n",
       "       [ 1.3274917 ],\n",
       "       [ 1.65623375]])"
      ]
     },
     "execution_count": 75,
     "metadata": {},
     "output_type": "execute_result"
    }
   ],
   "source": [
    "x_scaled"
   ]
  },
  {
   "cell_type": "code",
   "execution_count": 76,
   "id": "bacb2380",
   "metadata": {},
   "outputs": [
    {
     "data": {
      "text/plain": [
       "array([65.88071, 66.39677, 67.12844, 65.43429, 65.79104, 66.28228,\n",
       "       66.55062, 62.80697, 67.09466, 67.17076])"
      ]
     },
     "execution_count": 76,
     "metadata": {},
     "output_type": "execute_result"
    }
   ],
   "source": [
    "np.array(test.y)"
   ]
  },
  {
   "cell_type": "code",
   "execution_count": null,
   "id": "0c20ad2f",
   "metadata": {},
   "outputs": [],
   "source": []
  }
 ],
 "metadata": {
  "kernelspec": {
   "display_name": "Python 3 (ipykernel)",
   "language": "python",
   "name": "python3"
  },
  "language_info": {
   "codemirror_mode": {
    "name": "ipython",
    "version": 3
   },
   "file_extension": ".py",
   "mimetype": "text/x-python",
   "name": "python",
   "nbconvert_exporter": "python",
   "pygments_lexer": "ipython3",
   "version": "3.9.13"
  }
 },
 "nbformat": 4,
 "nbformat_minor": 5
}
