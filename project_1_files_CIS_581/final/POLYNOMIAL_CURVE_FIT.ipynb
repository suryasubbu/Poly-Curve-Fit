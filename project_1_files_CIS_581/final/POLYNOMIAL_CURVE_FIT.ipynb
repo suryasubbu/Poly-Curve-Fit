{
 "cells": [
  {
   "cell_type": "code",
   "execution_count": 1,
   "id": "a73a96f1",
   "metadata": {},
   "outputs": [],
   "source": [
    "## packages to handle array and datafram\n",
    "import numpy as np\n",
    "import pandas as pd\n",
    "\n",
    "## Sklearn packages\n",
    "from sklearn import preprocessing\n",
    "from sklearn.linear_model import Ridge\n",
    "from sklearn.preprocessing import PolynomialFeatures\n",
    "import math\n",
    "import matplotlib.pyplot as plt\n",
    "import seaborn as sns\n",
    "from sklearn.model_selection import KFold, cross_val_score\n",
    "import warnings\n",
    "warnings.filterwarnings(\"ignore\")"
   ]
  },
  {
   "cell_type": "code",
   "execution_count": 2,
   "id": "7a5543e9",
   "metadata": {},
   "outputs": [],
   "source": [
    "## Reading the dat files\n",
    "year_train, indicator_train = np.loadtxt(\"train.dat\", usecols=(0,1), unpack=True)\n",
    "year_test, indicator_test = np.loadtxt(\"test.dat\", usecols=(0,1), unpack=True)"
   ]
  },
  {
   "cell_type": "code",
   "execution_count": 3,
   "id": "2e3c15b4",
   "metadata": {},
   "outputs": [
    {
     "data": {
      "text/plain": [
       "array([65.88791334, 67.21901249, 64.3206674 , 66.92166376, 66.11401206,\n",
       "       66.59359495, 67.29843266, 65.96910343, 65.4752471 , 66.2797506 ,\n",
       "       65.62325127, 65.58762306, 66.23720265, 65.26999151, 64.84324978,\n",
       "       63.34073035, 66.40316557, 66.04316515, 63.87068233, 66.73921392,\n",
       "       67.11898948, 65.37437138, 66.22703075, 65.36499928, 65.71061236,\n",
       "       65.35474362, 66.00611589, 66.368468  , 66.78334217, 65.08089532,\n",
       "       66.20761473, 62.29623387, 67.26293826, 61.93885757, 64.92412865,\n",
       "       66.31769921, 66.45910062, 66.34765   , 65.65052   , 65.53492   ,\n",
       "       66.11388   , 65.08628   ])"
      ]
     },
     "execution_count": 3,
     "metadata": {},
     "output_type": "execute_result"
    }
   ],
   "source": [
    "indicator_train"
   ]
  },
  {
   "cell_type": "code",
   "execution_count": 4,
   "id": "d910f580",
   "metadata": {},
   "outputs": [],
   "source": [
    "## preprocessing\n",
    "x = year_train.reshape(-1,1)\n",
    "y = indicator_train.reshape(-1,1)\n",
    "X = year_test.reshape(-1,1)\n",
    "Y = indicator_test.reshape(-1,1)"
   ]
  },
  {
   "cell_type": "code",
   "execution_count": 5,
   "id": "2b75a2d5",
   "metadata": {},
   "outputs": [],
   "source": [
    "## polynomial and l2 penalizing parameters\n",
    "lambda_val_ = [0,math.exp(-25),math.exp(-20),\n",
    "             math.exp(-14),math.exp(-7),\n",
    "             math.exp(-3),1,math.exp(7),\n",
    "             math.exp(3)]\n",
    "degree = np.arange(0,13)\n"
   ]
  },
  {
   "cell_type": "code",
   "execution_count": 6,
   "id": "957e538e",
   "metadata": {},
   "outputs": [],
   "source": [
    "scaler = preprocessing.StandardScaler().fit(x)\n",
    "x_scaled = scaler.transform(x)\n",
    "scaler = preprocessing.StandardScaler().fit(X)\n",
    "X_scaled= scaler.transform(X)"
   ]
  },
  {
   "cell_type": "code",
   "execution_count": 25,
   "id": "2ceeab61",
   "metadata": {},
   "outputs": [
    {
     "data": {
      "text/plain": [
       "array([[ 0.21231148],\n",
       "       [ 0.87776537],\n",
       "       [-1.31823247],\n",
       "       [ 0.61158382],\n",
       "       [-0.98550553],\n",
       "       [ 0.47849304],\n",
       "       [ 0.81121998],\n",
       "       [-1.05205092],\n",
       "       [-0.18696086],\n",
       "       [-0.85241475],\n",
       "       [ 1.47667388],\n",
       "       [-0.25350624],\n",
       "       [-0.91896014],\n",
       "       [-1.18514169],\n",
       "       [-1.25168708],\n",
       "       [-1.45132325],\n",
       "       [ 0.41194765],\n",
       "       [ 0.27885687],\n",
       "       [-1.38477786],\n",
       "       [ 0.54503843],\n",
       "       [ 0.6781292 ],\n",
       "       [-0.12041547],\n",
       "       [-0.45314241],\n",
       "       [-0.05387008],\n",
       "       [ 0.14576609],\n",
       "       [ 1.54321927],\n",
       "       [-0.38659702],\n",
       "       [-0.5196878 ],\n",
       "       [ 1.14394693],\n",
       "       [ 1.60976465],\n",
       "       [ 0.34540226],\n",
       "       [-1.58441403],\n",
       "       [ 0.74467459],\n",
       "       [-1.65095942],\n",
       "       [ 1.74285543],\n",
       "       [ 1.27703771],\n",
       "       [-0.58623319],\n",
       "       [-0.71932397],\n",
       "       [-1.11859631],\n",
       "       [ 0.0792207 ],\n",
       "       [ 1.3435831 ],\n",
       "       [ 1.67631004]])"
      ]
     },
     "execution_count": 25,
     "metadata": {},
     "output_type": "execute_result"
    }
   ],
   "source": [
    "x_scaled"
   ]
  },
  {
   "cell_type": "code",
   "execution_count": 33,
   "id": "68d99fd9",
   "metadata": {},
   "outputs": [],
   "source": [
    "def crossvals_poly(alpha,d):\n",
    "    ## crossvalidation\n",
    "    k = 6\n",
    "    cv_method = KFold(n_splits=k, shuffle=False, random_state=None)\n",
    "    scores = []\n",
    "    for i, (train_idx, test_idx) in enumerate(cv_method.split(x_scaled, y)):\n",
    "        #splitting train and test\n",
    "        X_train, y_train = x_scaled[train_idx], y[train_idx]\n",
    "        X_test, y_test = x_scaled[test_idx], y[test_idx]\n",
    "        \n",
    "        \n",
    "        poly = PolynomialFeatures(degree=d)\n",
    "        X_train_scaling_trans = poly.fit_transform(X_train)\n",
    "        X_test_scaling_trans = poly.fit_transform(X_test)\n",
    "\n",
    "        # Ridge Regression\n",
    "        identity_matrix = np.identity(d+1)\n",
    "        w = (np.linalg.inv(X_train_scaling_trans.T @ X_train_scaling_trans + alpha * identity_matrix) @ X_train_scaling_trans.T @ y_train)\n",
    "        y_hat = X_test_scaling_trans @ w\n",
    "        print(d)\n",
    "        #y_denormalize = (y_hat * Std_train) + Mean_train\n",
    "\n",
    "        score1 = (y_hat - y_test)**2\n",
    "        score2 = score1.mean()\n",
    "        score = math.sqrt(score2)\n",
    "\n",
    "        scores.append(score)\n",
    "    \n",
    "    return np.array(scores).mean()"
   ]
  },
  {
   "cell_type": "code",
   "execution_count": 34,
   "id": "1ad62291",
   "metadata": {},
   "outputs": [
    {
     "name": "stdout",
     "output_type": "stream",
     "text": [
      "0\n",
      "0\n",
      "0\n",
      "0\n",
      "0\n",
      "0\n",
      "1\n",
      "1\n",
      "1\n",
      "1\n",
      "1\n",
      "1\n",
      "2\n",
      "2\n",
      "2\n",
      "2\n",
      "2\n",
      "2\n",
      "3\n",
      "3\n",
      "3\n",
      "3\n",
      "3\n",
      "3\n",
      "4\n",
      "4\n",
      "4\n",
      "4\n",
      "4\n",
      "4\n",
      "5\n",
      "5\n",
      "5\n",
      "5\n",
      "5\n",
      "5\n",
      "6\n",
      "6\n",
      "6\n",
      "6\n",
      "6\n",
      "6\n",
      "7\n",
      "7\n",
      "7\n",
      "7\n",
      "7\n",
      "7\n",
      "8\n",
      "8\n",
      "8\n",
      "8\n",
      "8\n",
      "8\n",
      "9\n",
      "9\n",
      "9\n",
      "9\n",
      "9\n",
      "9\n",
      "10\n",
      "10\n",
      "10\n",
      "10\n",
      "10\n",
      "10\n",
      "11\n",
      "11\n",
      "11\n",
      "11\n",
      "11\n",
      "11\n",
      "12\n",
      "12\n",
      "12\n",
      "12\n",
      "12\n",
      "12\n"
     ]
    }
   ],
   "source": [
    "degree_array = []\n",
    "for d in degree:\n",
    "    degree_array.append([d,crossvals_poly(0,d)])"
   ]
  },
  {
   "cell_type": "code",
   "execution_count": 35,
   "id": "df20eec5",
   "metadata": {},
   "outputs": [
    {
     "data": {
      "text/plain": [
       "[[0, 1.0155605589711298],\n",
       " [1, 1.0835561617376976],\n",
       " [2, 0.775429312351411],\n",
       " [3, 0.7830016853814868],\n",
       " [4, 0.49348184425648295],\n",
       " [5, 0.570135013390089],\n",
       " [6, 0.14235262539112223],\n",
       " [7, 0.18750847543590246],\n",
       " [8, 0.1463100743474711],\n",
       " [9, 0.23647291091694547],\n",
       " [10, 0.16488079790444554],\n",
       " [11, 0.6257835680055416],\n",
       " [12, 0.6869783284228649]]"
      ]
     },
     "execution_count": 35,
     "metadata": {},
     "output_type": "execute_result"
    }
   ],
   "source": [
    "degree_array"
   ]
  },
  {
   "cell_type": "code",
   "execution_count": 10,
   "id": "6059a90f",
   "metadata": {},
   "outputs": [
    {
     "data": {
      "text/plain": [
       "[<matplotlib.lines.Line2D at 0x23033143be0>]"
      ]
     },
     "execution_count": 10,
     "metadata": {},
     "output_type": "execute_result"
    },
    {
     "data": {
      "image/png": "[encoded data removed]",
      "text/plain": [
       "<Figure size 640x480 with 1 Axes>"
      ]
     },
     "metadata": {},
     "output_type": "display_data"
    }
   ],
   "source": [
    "degree_df = pd.DataFrame(degree_array)\n",
    "degree_df.columns = [\"d\",\"avg RMSE\"]\n",
    "plt.plot(degree_df.d , degree_df[\"avg RMSE\"])"
   ]
  },
  {
   "cell_type": "code",
   "execution_count": 36,
   "id": "8287a7b4",
   "metadata": {},
   "outputs": [
    {
     "name": "stdout",
     "output_type": "stream",
     "text": [
      "12\n",
      "12\n",
      "12\n",
      "12\n",
      "12\n",
      "12\n",
      "12\n",
      "12\n",
      "12\n",
      "12\n",
      "12\n",
      "12\n",
      "12\n",
      "12\n",
      "12\n",
      "12\n",
      "12\n",
      "12\n",
      "12\n",
      "12\n",
      "12\n",
      "12\n",
      "12\n",
      "12\n",
      "12\n",
      "12\n",
      "12\n",
      "12\n",
      "12\n",
      "12\n",
      "12\n",
      "12\n",
      "12\n",
      "12\n",
      "12\n",
      "12\n",
      "12\n",
      "12\n",
      "12\n",
      "12\n",
      "12\n",
      "12\n",
      "12\n",
      "12\n",
      "12\n",
      "12\n",
      "12\n",
      "12\n",
      "12\n",
      "12\n",
      "12\n",
      "12\n",
      "12\n",
      "12\n"
     ]
    }
   ],
   "source": [
    "lambda_array = []\n",
    "for alpha in lambda_val_:\n",
    "    lambda_array.append([alpha,crossvals_poly(alpha,12)])"
   ]
  },
  {
   "cell_type": "code",
   "execution_count": 37,
   "id": "ae04f31f",
   "metadata": {},
   "outputs": [
    {
     "data": {
      "text/plain": [
       "[[0, 0.6869783284228649],\n",
       " [1.3887943864964021e-11, 0.6869783504368602],\n",
       " [2.061153622438558e-09, 0.6869791079793521],\n",
       " [8.315287191035679e-07, 0.6872836187408963],\n",
       " [0.0009118819655545162, 0.43203017645691477],\n",
       " [0.049787068367863944, 0.46918766654707705],\n",
       " [1, 3.8451040338290743],\n",
       " [1096.6331584284585, 62.20120346074582],\n",
       " [20.085536923187668, 30.19033244495183]]"
      ]
     },
     "execution_count": 37,
     "metadata": {},
     "output_type": "execute_result"
    }
   ],
   "source": [
    "lambda_array"
   ]
  },
  {
   "cell_type": "code",
   "execution_count": 14,
   "id": "acff6bfa",
   "metadata": {},
   "outputs": [
    {
     "data": {
      "text/plain": [
       "Text(0.5, 0, 'Lambda values')"
      ]
     },
     "execution_count": 14,
     "metadata": {},
     "output_type": "execute_result"
    },
    {
     "data": {
      "image/png": "[encoded data removed]",
      "text/plain": [
       "<Figure size 800x800 with 1 Axes>"
      ]
     },
     "metadata": {},
     "output_type": "display_data"
    }
   ],
   "source": [
    "lambda_df = pd.DataFrame(lambda_array)\n",
    "lambda_df.columns = [\"l\",\"avg RMSE\"]\n",
    "lambda_df.sort_values([\"l\"],inplace = True)\n",
    "lambda_df.l = round(lambda_df.l,8)\n",
    "plt.figure(figsize=(8,8))\n",
    "plt.rcParams.update({'font.size': 10})\n",
    "sns.barplot(data=lambda_df.head(9), x=\"l\", y=\"avg RMSE\")\n",
    "plt.xlabel(\"Lambda values\")"
   ]
  },
  {
   "cell_type": "code",
   "execution_count": 15,
   "id": "0caf552a",
   "metadata": {},
   "outputs": [],
   "source": [
    "d=6\n",
    "poly = PolynomialFeatures(degree=d)\n",
    "X__trans = poly.fit_transform(x_scaled)\n",
    "X_test_trans = poly.fit_transform(X_scaled)\n",
    "identity_matrix = np.identity(d+1)\n",
    "w = (np.linalg.inv(X__trans.T @ X__trans + math.exp(-3) * identity_matrix) @ X__trans.T @ y)\n",
    "y_hat1 = X_test_trans @ w"
   ]
  },
  {
   "cell_type": "code",
   "execution_count": 16,
   "id": "c12171ef",
   "metadata": {},
   "outputs": [
    {
     "data": {
      "text/plain": [
       "0.5556831175824087"
      ]
     },
     "execution_count": 16,
     "metadata": {},
     "output_type": "execute_result"
    }
   ],
   "source": [
    "math.sqrt((np.square(y_hat1-Y).mean()))"
   ]
  },
  {
   "cell_type": "code",
   "execution_count": 19,
   "id": "cfc4a6ee",
   "metadata": {},
   "outputs": [],
   "source": [
    "w = (np.linalg.inv(X__trans.T @ X__trans + math.exp(-3) * identity_matrix) @ X__trans.T @ y)\n",
    "y_hat = X__trans @ w"
   ]
  },
  {
   "cell_type": "code",
   "execution_count": 20,
   "id": "f1135b37",
   "metadata": {},
   "outputs": [
    {
     "data": {
      "text/plain": [
       "0.16361044781778544"
      ]
     },
     "execution_count": 20,
     "metadata": {},
     "output_type": "execute_result"
    }
   ],
   "source": [
    "math.sqrt((np.square(y_hat-y).mean()))"
   ]
  },
  {
   "cell_type": "code",
   "execution_count": 122,
   "id": "314193be",
   "metadata": {},
   "outputs": [
    {
     "data": {
      "image/png": "[encoded data removed]",
      "text/plain": [
       "<Figure size 640x480 with 1 Axes>"
      ]
     },
     "metadata": {},
     "output_type": "display_data"
    }
   ],
   "source": [
    "sns.scatterplot( x.flatten(),y.flatten())\n",
    "sns.lineplot( x.flatten(),y_hat.flatten())\n",
    "sns.scatterplot(X.flatten(),Y.flatten())\n",
    "sns.lineplot(X.flatten(),y_hat1.flatten())\n",
    "\n",
    "plt.xlabel(\"years\")\n",
    "plt.ylabel(\"indicator\")\n",
    "plt.legend(['true data',\"d={} curve\".format(d),\"actual test data\",\"predicted data\"])\n",
    "plt.title(\"polynomial curve d = {} and alpha = exp(-7) fitted in training data\".format(d))\n",
    "plt.grid()"
   ]
  },
  {
   "cell_type": "code",
   "execution_count": 87,
   "id": "854bf5f9",
   "metadata": {},
   "outputs": [
    {
     "data": {
      "text/plain": [
       "array([[2016.],\n",
       "       [1985.],\n",
       "       [2010.],\n",
       "       [1995.],\n",
       "       [1990.],\n",
       "       [1983.],\n",
       "       [2013.],\n",
       "       [1972.],\n",
       "       [2011.],\n",
       "       [2009.]])"
      ]
     },
     "execution_count": 87,
     "metadata": {},
     "output_type": "execute_result"
    }
   ],
   "source": [
    "X"
   ]
  },
  {
   "cell_type": "code",
   "execution_count": null,
   "id": "14d16ced",
   "metadata": {},
   "outputs": [],
   "source": []
  }
 ],
 "metadata": {
  "kernelspec": {
   "display_name": "Python 3 (ipykernel)",
   "language": "python",
   "name": "python3"
  },
  "language_info": {
   "codemirror_mode": {
    "name": "ipython",
    "version": 3
   },
   "file_extension": ".py",
   "mimetype": "text/x-python",
   "name": "python",
   "nbconvert_exporter": "python",
   "pygments_lexer": "ipython3",
   "version": "3.9.13"
  }
 },
 "nbformat": 4,
 "nbformat_minor": 5
}
