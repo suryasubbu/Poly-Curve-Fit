{
 "cells": [
  {
   "cell_type": "code",
   "execution_count": 132,
   "id": "94fbfb35",
   "metadata": {},
   "outputs": [],
   "source": [
    "import numpy as np\n",
    "import matplotlib.pyplot as plt\n",
    "import pandas as pd\n",
    "# Define the function for generating polynomial features\n",
    "def poly_features(X, degree):\n",
    "    n_samples = X.shape[0]\n",
    "    X_poly = np.zeros((n_samples, degree))\n",
    "    for i in range(degree):\n",
    "        X_poly[:, i] = X[:, 0]**(i+1)\n",
    "    return X_poly\n",
    "\n",
    "# Define the function for scaling the features\n",
    "def scale_features(X):\n",
    "    mean = np.mean(X, axis=0)\n",
    "    std = np.std(X, axis=0)\n",
    "    #print(mean,std)\n",
    "    X_scaled = (X - mean) / std\n",
    "    return X_scaled\n",
    "\n",
    "# Define the function for performing polynomial ridge regression\n",
    "def poly_ridge_regression(X, y, degree, alpha):\n",
    "    X_scaled = scale_features(X)\n",
    "    X_poly = poly_features(X_scaled, degree)\n",
    "    \n",
    "    #print(X_poly)\n",
    "    identity_matrix = np.identity(degree)\n",
    "    w = (np.linalg.inv(X_poly.T @ X_poly + alpha * identity_matrix) @ X_poly.T @ y)\n",
    "    #print(w)\n",
    "    return w\n",
    "\n",
    "# Define the function for making predictions\n",
    "def predict(X, w, degree):\n",
    "    X_scaled = scale_features(X)\n",
    "    X_poly = poly_features(X_scaled, degree)\n",
    "    y_pred = X_poly @ w\n",
    "    return y_pred\n",
    "\n",
    "# Define the function for performing cross-validation\n",
    "def cross_validate(X, y, degree, alpha, k):\n",
    "    n_samples = X.shape[0]\n",
    "    indices = np.random.permutation(n_samples)\n",
    "    fold_size = int(n_samples / k)\n",
    "    scores = []\n",
    "    for i in range(k):\n",
    "        start, end = i*fold_size, (i+1)*fold_size\n",
    "        test_indices = indices[start:end]\n",
    "        train_indices = np.concatenate((indices[:start], indices[end:]))\n",
    "        X_train, y_train = X[train_indices], y[train_indices]\n",
    "        X_test, y_test = X[test_indices], y[test_indices]\n",
    "        w = poly_ridge_regression(X_train, y_train, degree, alpha)\n",
    "        y_pred = predict(X_test, w, degree)\n",
    "        print(y_pred,y)\n",
    "        score = np.mean((y_test - y_pred)**2)\n",
    "        scores.append(score)\n",
    "    return scores\n",
    "\n"
   ]
  },
  {
   "cell_type": "code",
   "execution_count": null,
   "id": "b6164b9d",
   "metadata": {},
   "outputs": [],
   "source": [
    "class RidgeRegression() :\n",
    "      \n",
    "    def __init__( self, learning_rate, iterations, l2_penality ) :\n",
    "          \n",
    "        self.learning_rate = learning_rate        \n",
    "        self.iterations = iterations        \n",
    "        self.l2_penality = l2_penality\n",
    "          \n",
    "    # Function for model training            \n",
    "    def fit( self, X, Y ) :\n",
    "          \n",
    "        # no_of_training_examples, no_of_features        \n",
    "        self.m, self.n = X.shape\n",
    "          \n",
    "        # weight initialization        \n",
    "        self.W = np.zeros( self.n )\n",
    "          \n",
    "        self.b = 0        \n",
    "        self.X = X        \n",
    "        self.Y = Y\n",
    "          \n",
    "        # gradient descent learning\n",
    "                  \n",
    "        for i in range( self.iterations ) :            \n",
    "            self.update_weights()            \n",
    "        return self\n",
    "      \n",
    "    # Helper function to update weights in gradient descent\n",
    "      \n",
    "    def update_weights( self ) :           \n",
    "        Y_pred = self.predict( self.X )\n",
    "          \n",
    "        # calculate gradients      \n",
    "        dW = ( - ( 2 * ( self.X.T ).dot( self.Y - Y_pred ) ) +               \n",
    "               ( 2 * self.l2_penality * self.W ) ) / self.m     \n",
    "        db = - 2 * np.sum( self.Y - Y_pred ) / self.m \n",
    "          \n",
    "        # update weights    \n",
    "        self.W = self.W - self.learning_rate * dW    \n",
    "        self.b = self.b - self.learning_rate * db        \n",
    "        return self\n",
    "      \n",
    "    # Hypothetical function  h( x ) \n",
    "    def predict( self, X ) :    \n",
    "        return X.dot( self.W ) + self.b"
   ]
  },
  {
   "cell_type": "code",
   "execution_count": 685,
   "id": "4e714d49",
   "metadata": {},
   "outputs": [],
   "source": [
    "degree = 12\n",
    "s = StandardScaler()\n",
    "poly = PolynomialFeatures(degree, include_bias=True)\n",
    "alpha = math.exp(0.35)"
   ]
  },
  {
   "cell_type": "code",
   "execution_count": 686,
   "id": "6d68b31c",
   "metadata": {},
   "outputs": [],
   "source": [
    "train = pd.DataFrame(np.genfromtxt('train.dat',\n",
    "                     dtype=None,\n",
    "                     delimiter=' ')).sort_values([\"f0\"])\n",
    "test = pd.DataFrame(np.genfromtxt('test.dat',\n",
    "                     dtype=None)).sort_values([\"f0\"])"
   ]
  },
  {
   "cell_type": "code",
   "execution_count": 687,
   "id": "2a501776",
   "metadata": {},
   "outputs": [],
   "source": [
    "X_train = np.array(train.f0).reshape(-1,1)\n",
    "y_train = np.array(train.f1)\n",
    "X_scaled = s.fit_transform(X_train)\n",
    "X_scaled_poly = poly.fit_transform(X_scaled)"
   ]
  },
  {
   "cell_type": "code",
   "execution_count": 688,
   "id": "6194103b",
   "metadata": {},
   "outputs": [],
   "source": [
    "X_t = np.array(test.f0).reshape(-1,1)\n",
    "y_t = np.array(test.f1)\n",
    "X_test_s = s.fit_transform(X_t)\n",
    "X_test_s_pol = poly.fit_transform(X_test_s)"
   ]
  },
  {
   "cell_type": "code",
   "execution_count": 689,
   "id": "d65bca17",
   "metadata": {},
   "outputs": [],
   "source": [
    "from sklearn.linear_model import Ridge"
   ]
  },
  {
   "cell_type": "code",
   "execution_count": 690,
   "id": "2dad7a29",
   "metadata": {},
   "outputs": [],
   "source": [
    "from sklearn.linear_model import LinearRegression\n",
    "model = Ridge(alpha = alpha)"
   ]
  },
  {
   "cell_type": "code",
   "execution_count": 691,
   "id": "da248c76",
   "metadata": {},
   "outputs": [],
   "source": [
    "c = model.fit(X_scaled_poly,y_train)"
   ]
  },
  {
   "cell_type": "code",
   "execution_count": 692,
   "id": "289897a3",
   "metadata": {},
   "outputs": [
    {
     "data": {
      "text/plain": [
       "0.941710836657038"
      ]
     },
     "execution_count": 692,
     "metadata": {},
     "output_type": "execute_result"
    }
   ],
   "source": [
    "c.score(X_scaled_poly,y_train)"
   ]
  },
  {
   "cell_type": "code",
   "execution_count": 693,
   "id": "1a75d0f8",
   "metadata": {},
   "outputs": [],
   "source": [
    "y_pred = c.predict(X_test_s_pol)"
   ]
  },
  {
   "cell_type": "code",
   "execution_count": 694,
   "id": "00db69fc",
   "metadata": {},
   "outputs": [
    {
     "name": "stdout",
     "output_type": "stream",
     "text": [
      "RMSE: 0.7569625569717664\n"
     ]
    }
   ],
   "source": [
    "print(\"RMSE:\",math.sqrt((np.square(y_t-y_pred).mean())))"
   ]
  },
  {
   "cell_type": "code",
   "execution_count": 695,
   "id": "ab23a204",
   "metadata": {},
   "outputs": [
    {
     "data": {
      "text/plain": [
       "[<matplotlib.lines.Line2D at 0x20fbe80dfa0>]"
      ]
     },
     "execution_count": 695,
     "metadata": {},
     "output_type": "execute_result"
    },
    {
     "data": {
      "image/png": "[encoded data removed]",
      "text/plain": [
       "<Figure size 432x288 with 1 Axes>"
      ]
     },
     "metadata": {
      "needs_background": "light"
     },
     "output_type": "display_data"
    }
   ],
   "source": [
    "plt.plot(X_t,y_t)\n",
    "plt.plot(X_t,y_pred)"
   ]
  },
  {
   "cell_type": "code",
   "execution_count": 696,
   "id": "308218b6",
   "metadata": {},
   "outputs": [
    {
     "data": {
      "text/plain": [
       "[<matplotlib.lines.Line2D at 0x20fbe8691c0>]"
      ]
     },
     "execution_count": 696,
     "metadata": {},
     "output_type": "execute_result"
    },
    {
     "data": {
      "image/png": "[encoded data removed]",
      "text/plain": [
       "<Figure size 432x288 with 1 Axes>"
      ]
     },
     "metadata": {
      "needs_background": "light"
     },
     "output_type": "display_data"
    }
   ],
   "source": [
    "plt.plot(X_t,y_pred)"
   ]
  },
  {
   "cell_type": "code",
   "execution_count": 624,
   "id": "8270a416",
   "metadata": {},
   "outputs": [
    {
     "data": {
      "text/plain": [
       "2"
      ]
     },
     "execution_count": 624,
     "metadata": {},
     "output_type": "execute_result"
    }
   ],
   "source": [
    "degree"
   ]
  },
  {
   "cell_type": "code",
   "execution_count": 625,
   "id": "574c2ba7",
   "metadata": {},
   "outputs": [],
   "source": [
    "import math\n",
    "MSE = np.square(np.subtract(y_t,y_pred)).mean() \n",
    " \n",
    "RMSE = math.sqrt(MSE)"
   ]
  },
  {
   "cell_type": "code",
   "execution_count": 626,
   "id": "4f829271",
   "metadata": {},
   "outputs": [
    {
     "data": {
      "text/plain": [
       "0.7192392487098687"
      ]
     },
     "execution_count": 626,
     "metadata": {},
     "output_type": "execute_result"
    }
   ],
   "source": [
    "RMSE"
   ]
  },
  {
   "cell_type": "code",
   "execution_count": null,
   "id": "da5541bf",
   "metadata": {},
   "outputs": [],
   "source": []
  }
 ],
 "metadata": {
  "kernelspec": {
   "display_name": "Python 3 (ipykernel)",
   "language": "python",
   "name": "python3"
  },
  "language_info": {
   "codemirror_mode": {
    "name": "ipython",
    "version": 3
   },
   "file_extension": ".py",
   "mimetype": "text/x-python",
   "name": "python",
   "nbconvert_exporter": "python",
   "pygments_lexer": "ipython3",
   "version": "3.9.13"
  }
 },
 "nbformat": 4,
 "nbformat_minor": 5
}
