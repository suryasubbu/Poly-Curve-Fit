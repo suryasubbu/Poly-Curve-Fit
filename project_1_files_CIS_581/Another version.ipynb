{
 "cells": [
  {
   "cell_type": "code",
   "execution_count": 2,
   "id": "c3906970",
   "metadata": {},
   "outputs": [],
   "source": [
    "import numpy as np\n",
    "import matplotlib.pyplot as plt\n",
    "import pandas as pd\n",
    "from sklearn.model_selection import train_test_split\n",
    "import pandas as pd\n",
    "import numpy as np\n",
    "import matplotlib.pyplot as plt\n",
    "import seaborn as sns\n",
    "from sklearn import preprocessing\n",
    "import numpy as np\n",
    "from sklearn.linear_model import Ridge\n",
    "from sklearn.model_selection import KFold\n",
    "from sklearn.preprocessing import PolynomialFeatures, StandardScaler\n",
    "from sklearn.pipeline import Pipeline\n",
    "import math\n",
    "# Define the function for generating polynomial features\n",
    "def poly_features(X, degree):\n",
    "    n_samples = X.shape[0]\n",
    "    X_poly = np.zeros((n_samples, degree))\n",
    "    for i in range(degree):\n",
    "        X_poly[:, i] = X[:, 0]**(i+1)\n",
    "    return X_poly\n",
    "\n",
    "# Define the function for scaling the features\n",
    "def scale_features(X):\n",
    "    mean = np.mean(X, axis=0)\n",
    "    std = np.std(X, axis=0)\n",
    "    #print(mean,std)\n",
    "    X_scaled = (X - mean) / std\n",
    "    return X_scaled\n",
    "\n",
    "# Define the function for performing polynomial ridge regression\n",
    "def poly_ridge_regression(X, y, degree, alpha):\n",
    "    X_scaled = scale_features(X)\n",
    "    X_poly = poly_features(X_scaled, degree)\n",
    "    \n",
    "    #print(X_poly)\n",
    "    identity_matrix = np.identity(degree)\n",
    "    w = (np.linalg.inv(X_poly.T @ X_poly + alpha * identity_matrix) @ X_poly.T @ y)\n",
    "    #print(w)\n",
    "    return w\n",
    "\n",
    "# Define the function for making predictions\n",
    "def predict(X, w, degree):\n",
    "    X_scaled = scale_features(X)\n",
    "    X_poly = poly_features(X_scaled, degree)\n",
    "    y_pred = X_poly @ w\n",
    "    return y_pred\n",
    "\n",
    "# Define the function for performing cross-validation\n",
    "def cross_validate(X, y, degree, alpha, k):\n",
    "    n_samples = X.shape[0]\n",
    "    indices = np.random.permutation(n_samples)\n",
    "    fold_size = int(n_samples / k)\n",
    "    scores = []\n",
    "    for i in range(k):\n",
    "        start, end = i*fold_size, (i+1)*fold_size\n",
    "        test_indices = indices[start:end]\n",
    "        train_indices = np.concatenate((indices[:start], indices[end:]))\n",
    "        X_train, y_train = X[train_indices], y[train_indices]\n",
    "        X_test, y_test = X[test_indices], y[test_indices]\n",
    "        w = poly_ridge_regression(X_train, y_train, degree, alpha)\n",
    "        y_pred = predict(X_test, w, degree)\n",
    "        print(y_pred,y)\n",
    "        score = np.mean((y_test - y_pred)**2)\n",
    "        scores.append(score)\n",
    "    return scores\n",
    "\n"
   ]
  },
  {
   "cell_type": "code",
   "execution_count": 3,
   "id": "00c4dc72",
   "metadata": {},
   "outputs": [],
   "source": [
    "class RidgeRegression() :\n",
    "      \n",
    "    def __init__( self, learning_rate, iterations, l2_penality ) :\n",
    "          \n",
    "        self.learning_rate = learning_rate        \n",
    "        self.iterations = iterations        \n",
    "        self.l2_penality = l2_penality\n",
    "          \n",
    "    # Function for model training            \n",
    "    def fit( self, X, Y ) :\n",
    "          \n",
    "        # no_of_training_examples, no_of_features        \n",
    "        self.m, self.n = X.shape\n",
    "          \n",
    "        # weight initialization        \n",
    "        self.W = np.zeros( self.n )\n",
    "          \n",
    "        self.b = 0        \n",
    "        self.X = X        \n",
    "        self.Y = Y\n",
    "          \n",
    "        # gradient descent learning\n",
    "                  \n",
    "        for i in range( self.iterations ) :            \n",
    "            self.update_weights()            \n",
    "        return self\n",
    "      \n",
    "    # Helper function to update weights in gradient descent\n",
    "      \n",
    "    def update_weights( self ) :           \n",
    "        Y_pred = self.predict( self.X )\n",
    "          \n",
    "        # calculate gradients      \n",
    "        dW = ( - ( 2 * ( self.X.T ).dot( self.Y - Y_pred ) ) +               \n",
    "               ( 2 * self.l2_penality * self.W ) ) / self.m     \n",
    "        db = - 2 * np.sum( self.Y - Y_pred ) / self.m \n",
    "          \n",
    "        # update weights    \n",
    "        self.W = self.W - self.learning_rate * dW    \n",
    "        self.b = self.b - self.learning_rate * db        \n",
    "        return self\n",
    "      \n",
    "    # Hypothetical function  h( x ) \n",
    "    def predict( self, X ) :    \n",
    "        return X.dot( self.W ) + self.b"
   ]
  },
  {
   "cell_type": "code",
   "execution_count": 271,
   "id": "7ba090d4",
   "metadata": {},
   "outputs": [],
   "source": [
    "degree = 2\n",
    "s = StandardScaler()\n",
    "poly = PolynomialFeatures(degree, include_bias=False)\n",
    "alpha = math.exp(0.01)"
   ]
  },
  {
   "cell_type": "code",
   "execution_count": 272,
   "id": "cee721da",
   "metadata": {},
   "outputs": [],
   "source": [
    "train = pd.DataFrame(np.genfromtxt('train.dat',\n",
    "                     dtype=None,\n",
    "                     delimiter=' ')).sort_values([\"f0\"])\n",
    "test = pd.DataFrame(np.genfromtxt('test.dat',\n",
    "                     dtype=None)).sort_values([\"f0\"])"
   ]
  },
  {
   "cell_type": "code",
   "execution_count": 273,
   "id": "9e7fa36d",
   "metadata": {},
   "outputs": [],
   "source": [
    "X = np.array(train.f0).reshape(-1,1)\n",
    "y = np.array(train.f1)\n",
    "X_scaled = s.fit_transform(X)\n",
    "X_scaled_poly = poly.fit_transform(X_scaled)"
   ]
  },
  {
   "cell_type": "code",
   "execution_count": 274,
   "id": "5e193f05",
   "metadata": {},
   "outputs": [],
   "source": [
    "X_t = np.array(test.f0).reshape(-1,1)\n",
    "y_t = np.array(test.f1)\n",
    "X_test_s = s.fit_transform(X_t)\n",
    "X_test_s_pol = poly.fit_transform(X_test_s)"
   ]
  },
  {
   "cell_type": "code",
   "execution_count": 275,
   "id": "3d65708f",
   "metadata": {},
   "outputs": [],
   "source": [
    "X_train, X_test, Y_train, Y_test = train_test_split( X_scaled_poly, y, \n",
    "                                            \n",
    "                                          test_size = 1 / 4, random_state = 0 )"
   ]
  },
  {
   "cell_type": "code",
   "execution_count": 291,
   "id": "428b476a",
   "metadata": {},
   "outputs": [],
   "source": [
    "identity_matrix = np.identity(degree)\n",
    "w = (np.linalg.inv(X_scaled_poly.T @ X_scaled_poly + alpha * identity_matrix) @ X_scaled_poly.T @ y)"
   ]
  },
  {
   "cell_type": "code",
   "execution_count": 292,
   "id": "d57c22a8",
   "metadata": {},
   "outputs": [],
   "source": [
    "y_p = X_test_s_pol @ w"
   ]
  },
  {
   "cell_type": "code",
   "execution_count": 293,
   "id": "9ebe10df",
   "metadata": {},
   "outputs": [
    {
     "data": {
      "text/plain": [
       "[<matplotlib.lines.Line2D at 0x26138a810a0>]"
      ]
     },
     "execution_count": 293,
     "metadata": {},
     "output_type": "execute_result"
    },
    {
     "data": {
      "image/png": "[encoded data removed]",
      "text/plain": [
       "<Figure size 432x288 with 1 Axes>"
      ]
     },
     "metadata": {
      "needs_background": "light"
     },
     "output_type": "display_data"
    }
   ],
   "source": [
    "plt.plot(X_t,y_t)\n",
    "plt.plot(X_t,y_p)"
   ]
  },
  {
   "cell_type": "code",
   "execution_count": 294,
   "id": "5d7eee05",
   "metadata": {},
   "outputs": [
    {
     "name": "stdout",
     "output_type": "stream",
     "text": [
      "RMSE: 44.5540628558501\n"
     ]
    }
   ],
   "source": [
    "print(\"RMSE:\",math.sqrt((np.square(y_t-y_p).mean())))"
   ]
  },
  {
   "cell_type": "code",
   "execution_count": 260,
   "id": "3b1f7e91",
   "metadata": {},
   "outputs": [],
   "source": [
    "model = RidgeRegression( iterations = 1000,                             \n",
    "                            learning_rate = 0.01, l2_penality = 12 )"
   ]
  },
  {
   "cell_type": "code",
   "execution_count": 261,
   "id": "0c029cac",
   "metadata": {},
   "outputs": [
    {
     "data": {
      "text/plain": [
       "<__main__.RidgeRegression at 0x1506c2326d0>"
      ]
     },
     "execution_count": 261,
     "metadata": {},
     "output_type": "execute_result"
    }
   ],
   "source": [
    "model.fit( X_train, Y_train )"
   ]
  },
  {
   "cell_type": "code",
   "execution_count": 262,
   "id": "618f0965",
   "metadata": {},
   "outputs": [],
   "source": [
    "Y_pred = model.predict( X_test_s_pol )"
   ]
  },
  {
   "cell_type": "code",
   "execution_count": 264,
   "id": "2eab8193",
   "metadata": {},
   "outputs": [
    {
     "data": {
      "text/plain": [
       "array([-7.03587465e+39, -3.34934349e+38, -1.69777456e+38, -3.89140766e+37,\n",
       "       -2.43730166e+37, -1.18500039e+38, -1.63416511e+38, -2.26759148e+38,\n",
       "       -4.34286878e+38, -1.08586666e+39])"
      ]
     },
     "execution_count": 264,
     "metadata": {},
     "output_type": "execute_result"
    }
   ],
   "source": [
    "Y_pred"
   ]
  },
  {
   "cell_type": "code",
   "execution_count": 265,
   "id": "6d71d0e3",
   "metadata": {},
   "outputs": [
    {
     "name": "stdout",
     "output_type": "stream",
     "text": [
      "RMSE: 2.2606752148426746e+39\n"
     ]
    }
   ],
   "source": [
    "print(\"RMSE:\",math.sqrt((np.square(y_t-Y_pred).mean())))"
   ]
  },
  {
   "cell_type": "code",
   "execution_count": 266,
   "id": "65aabbe5",
   "metadata": {},
   "outputs": [
    {
     "data": {
      "text/plain": [
       "[<matplotlib.lines.Line2D at 0x1506c1bc2e0>]"
      ]
     },
     "execution_count": 266,
     "metadata": {},
     "output_type": "execute_result"
    },
    {
     "data": {
      "image/png": "[encoded data removed]",
      "text/plain": [
       "<Figure size 432x288 with 1 Axes>"
      ]
     },
     "metadata": {
      "needs_background": "light"
     },
     "output_type": "display_data"
    }
   ],
   "source": [
    "plt.plot(X_t,y_t)\n",
    "plt.plot(X_t,Y_pred)"
   ]
  },
  {
   "cell_type": "code",
   "execution_count": null,
   "id": "255247a7",
   "metadata": {},
   "outputs": [],
   "source": []
  },
  {
   "cell_type": "code",
   "execution_count": null,
   "id": "299ef376",
   "metadata": {},
   "outputs": [],
   "source": []
  }
 ],
 "metadata": {
  "kernelspec": {
   "display_name": "Python 3 (ipykernel)",
   "language": "python",
   "name": "python3"
  },
  "language_info": {
   "codemirror_mode": {
    "name": "ipython",
    "version": 3
   },
   "file_extension": ".py",
   "mimetype": "text/x-python",
   "name": "python",
   "nbconvert_exporter": "python",
   "pygments_lexer": "ipython3",
   "version": "3.9.13"
  }
 },
 "nbformat": 4,
 "nbformat_minor": 5
}
