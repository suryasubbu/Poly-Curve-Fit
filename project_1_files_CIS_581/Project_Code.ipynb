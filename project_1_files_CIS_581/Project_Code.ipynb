{
 "cells": [
  {
   "cell_type": "code",
   "execution_count": 1,
   "metadata": {},
   "outputs": [],
   "source": [
    "import pandas as pd\n",
    "import numpy as np\n",
    "import matplotlib.pyplot as plt\n",
    "import seaborn as sns\n",
    "from sklearn import preprocessing\n",
    "import numpy as np\n",
    "from sklearn.linear_model import Ridge\n",
    "from sklearn.model_selection import KFold\n",
    "from sklearn.preprocessing import PolynomialFeatures, StandardScaler\n",
    "from sklearn.pipeline import Pipeline"
   ]
  },
  {
   "cell_type": "code",
   "execution_count": 2,
   "metadata": {},
   "outputs": [],
   "source": [
    "train = pd.read_table(\"train.dat\",header = None)\n",
    "train[['year', 'indicator']] = train[0].str.split(\" \", expand = True)\n",
    "train = train[[\"year\",\"indicator\"]].astype(float)\n",
    "train[\"year\"] = train[\"year\"].astype(int)"
   ]
  },
  {
   "cell_type": "code",
   "execution_count": 3,
   "metadata": {},
   "outputs": [
    {
     "data": {
      "text/plain": [
       "Index(['year', 'indicator'], dtype='object')"
      ]
     },
     "execution_count": 3,
     "metadata": {},
     "output_type": "execute_result"
    }
   ],
   "source": [
    "test = pd.read_table(\"test.dat\",header = None)\n",
    "test.rename(columns={0:\"year\",1:\"indicator\"},inplace = True)\n",
    "test.columns"
   ]
  },
  {
   "cell_type": "code",
   "execution_count": 4,
   "metadata": {},
   "outputs": [
    {
     "data": {
      "text/plain": [
       "year           int64\n",
       "indicator    float64\n",
       "dtype: object"
      ]
     },
     "execution_count": 4,
     "metadata": {},
     "output_type": "execute_result"
    }
   ],
   "source": [
    "test.dtypes"
   ]
  },
  {
   "cell_type": "code",
   "execution_count": 5,
   "metadata": {},
   "outputs": [],
   "source": [
    "from sklearn.linear_model import LinearRegression\n",
    "model = Ridge()"
   ]
  },
  {
   "cell_type": "code",
   "execution_count": 6,
   "metadata": {},
   "outputs": [
    {
     "data": {
      "text/plain": [
       "Ridge()"
      ]
     },
     "execution_count": 6,
     "metadata": {},
     "output_type": "execute_result"
    }
   ],
   "source": [
    "model.fit(np.array(train.year).reshape(-1,1),train.indicator)"
   ]
  },
  {
   "cell_type": "code",
   "execution_count": 7,
   "metadata": {},
   "outputs": [],
   "source": [
    "r_sq = model.score(np.array(train.year).reshape(-1,1),train.indicator)"
   ]
  },
  {
   "cell_type": "code",
   "execution_count": 8,
   "metadata": {},
   "outputs": [
    {
     "data": {
      "text/plain": [
       "0.22951628217699582"
      ]
     },
     "execution_count": 8,
     "metadata": {},
     "output_type": "execute_result"
    }
   ],
   "source": [
    "r_sq"
   ]
  },
  {
   "cell_type": "code",
   "execution_count": 9,
   "metadata": {},
   "outputs": [
    {
     "data": {
      "text/plain": [
       "array([66.49274366, 65.33884114, 66.26940769, 65.71106776, 65.52495445,\n",
       "       65.26439581, 66.38107567, 64.85494653, 66.30663035, 66.23218503])"
      ]
     },
     "execution_count": 9,
     "metadata": {},
     "output_type": "execute_result"
    }
   ],
   "source": [
    "model.predict(np.array(test.year).reshape(-1,1))"
   ]
  },
  {
   "cell_type": "code",
   "execution_count": 185,
   "metadata": {},
   "outputs": [],
   "source": [
    "x = np.array(train.year.astype(float))"
   ]
  },
  {
   "cell_type": "code",
   "execution_count": 189,
   "metadata": {},
   "outputs": [],
   "source": [
    "y =  np.array(train.indicator)"
   ]
  },
  {
   "cell_type": "code",
   "execution_count": 190,
   "metadata": {},
   "outputs": [
    {
     "data": {
      "text/plain": [
       "array([65.88791334, 67.21901249, 64.3206674 , 66.92166376, 66.11401206,\n",
       "       66.59359495, 67.29843266, 65.96910343, 65.4752471 , 66.2797506 ,\n",
       "       65.62325127, 65.58762306, 66.23720265, 65.26999151, 64.84324978,\n",
       "       63.34073035, 66.40316557, 66.04316515, 63.87068233, 66.73921392,\n",
       "       67.11898948, 65.37437138, 66.22703075, 65.36499928, 65.71061236,\n",
       "       65.35474362, 66.00611589, 66.368468  , 66.78334217, 65.08089532,\n",
       "       66.20761473, 62.29623387, 67.26293826, 61.93885757, 64.92412865,\n",
       "       66.31769921, 66.45910062, 66.34765   , 65.65052   , 65.53492   ,\n",
       "       66.11388   , 65.08628   ])"
      ]
     },
     "execution_count": 190,
     "metadata": {},
     "output_type": "execute_result"
    }
   ],
   "source": [
    "y"
   ]
  },
  {
   "cell_type": "code",
   "execution_count": 203,
   "metadata": {},
   "outputs": [],
   "source": [
    "s = StandardScaler()\n",
    "x_new = s.fit_transform(x.reshape(-1,1))"
   ]
  },
  {
   "cell_type": "code",
   "execution_count": 211,
   "metadata": {},
   "outputs": [],
   "source": [
    "train[\"scaled\"] = x_new"
   ]
  },
  {
   "cell_type": "code",
   "execution_count": 213,
   "metadata": {},
   "outputs": [
    {
     "data": {
      "text/plain": [
       "0     0.212311\n",
       "1     0.877765\n",
       "2    -1.318232\n",
       "3     0.611584\n",
       "4    -0.985506\n",
       "5     0.478493\n",
       "6     0.811220\n",
       "7    -1.052051\n",
       "8    -0.186961\n",
       "9    -0.852415\n",
       "10    1.476674\n",
       "11   -0.253506\n",
       "12   -0.918960\n",
       "13   -1.185142\n",
       "14   -1.251687\n",
       "15   -1.451323\n",
       "16    0.411948\n",
       "17    0.278857\n",
       "18   -1.384778\n",
       "19    0.545038\n",
       "20    0.678129\n",
       "21   -0.120415\n",
       "22   -0.453142\n",
       "23   -0.053870\n",
       "24    0.145766\n",
       "25    1.543219\n",
       "26   -0.386597\n",
       "27   -0.519688\n",
       "28    1.143947\n",
       "29    1.609765\n",
       "30    0.345402\n",
       "31   -1.584414\n",
       "32    0.744675\n",
       "33   -1.650959\n",
       "34    1.742855\n",
       "35    1.277038\n",
       "36   -0.586233\n",
       "37   -0.719324\n",
       "38   -1.118596\n",
       "39    0.079221\n",
       "40    1.343583\n",
       "41    1.676310\n",
       "Name: scaled, dtype: float64"
      ]
     },
     "execution_count": 213,
     "metadata": {},
     "output_type": "execute_result"
    }
   ],
   "source": [
    "train[\"scaled\"]"
   ]
  },
  {
   "cell_type": "code",
   "execution_count": 226,
   "metadata": {},
   "outputs": [
    {
     "data": {
      "image/png": "[encoded data removed]",
      "text/plain": [
       "<Figure size 432x288 with 1 Axes>"
      ]
     },
     "metadata": {
      "needs_background": "light"
     },
     "output_type": "display_data"
    }
   ],
   "source": [
    "mymodel = np.poly1d(np.polyfit(np.array(train[\"scaled\"]), y, 17))\n",
    "\n",
    "myline = np.linspace(-2, 2, 25)\n",
    "\n",
    "plt.scatter(np.array(train[\"scaled\"]), y)\n",
    "plt.plot(myline, mymodel(myline))\n",
    "plt.show()"
   ]
  },
  {
   "cell_type": "code",
   "execution_count": 217,
   "metadata": {},
   "outputs": [
    {
     "data": {
      "text/plain": [
       "0     0.212311\n",
       "1     0.877765\n",
       "2    -1.318232\n",
       "3     0.611584\n",
       "4    -0.985506\n",
       "5     0.478493\n",
       "6     0.811220\n",
       "7    -1.052051\n",
       "8    -0.186961\n",
       "9    -0.852415\n",
       "10    1.476674\n",
       "11   -0.253506\n",
       "12   -0.918960\n",
       "13   -1.185142\n",
       "14   -1.251687\n",
       "15   -1.451323\n",
       "16    0.411948\n",
       "17    0.278857\n",
       "18   -1.384778\n",
       "19    0.545038\n",
       "20    0.678129\n",
       "21   -0.120415\n",
       "22   -0.453142\n",
       "23   -0.053870\n",
       "24    0.145766\n",
       "25    1.543219\n",
       "26   -0.386597\n",
       "27   -0.519688\n",
       "28    1.143947\n",
       "29    1.609765\n",
       "30    0.345402\n",
       "31   -1.584414\n",
       "32    0.744675\n",
       "33   -1.650959\n",
       "34    1.742855\n",
       "35    1.277038\n",
       "36   -0.586233\n",
       "37   -0.719324\n",
       "38   -1.118596\n",
       "39    0.079221\n",
       "40    1.343583\n",
       "41    1.676310\n",
       "Name: scaled, dtype: float64"
      ]
     },
     "execution_count": 217,
     "metadata": {},
     "output_type": "execute_result"
    }
   ],
   "source": [
    "train[\"scaled\"]"
   ]
  },
  {
   "cell_type": "code",
   "execution_count": null,
   "metadata": {},
   "outputs": [],
   "source": []
  }
 ],
 "metadata": {
  "kernelspec": {
   "display_name": "Python 3",
   "language": "python",
   "name": "python3"
  },
  "language_info": {
   "codemirror_mode": {
    "name": "ipython",
    "version": 3
   },
   "file_extension": ".py",
   "mimetype": "text/x-python",
   "name": "python",
   "nbconvert_exporter": "python",
   "pygments_lexer": "ipython3",
   "version": "3.8.5"
  }
 },
 "nbformat": 4,
 "nbformat_minor": 4
}
