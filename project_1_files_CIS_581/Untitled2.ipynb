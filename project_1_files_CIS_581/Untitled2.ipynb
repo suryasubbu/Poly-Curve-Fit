{
 "cells": [
  {
   "cell_type": "code",
   "execution_count": 93,
   "id": "b860b547-8ad1-4c05-b3be-1b1eb4be9d4a",
   "metadata": {},
   "outputs": [],
   "source": [
    "import numpy as np\n",
    "import matplotlib.pyplot as plt\n",
    "import pandas as pd\n",
    "from sklearn.model_selection import train_test_split\n",
    "import pandas as pd\n",
    "import numpy as np\n",
    "import matplotlib.pyplot as plt\n",
    "import seaborn as sns\n",
    "from sklearn import preprocessing\n",
    "import numpy as np\n",
    "from sklearn.linear_model import Ridge\n",
    "from sklearn.model_selection import KFold\n",
    "from sklearn.preprocessing import PolynomialFeatures, StandardScaler\n",
    "from sklearn.pipeline import Pipeline\n",
    "import math\n",
    "\n",
    "\n",
    "# Importing libraries\n",
    "  \n",
    "import numpy as np\n",
    "import pandas as pd\n",
    "from sklearn.model_selection import train_test_split\n",
    "import matplotlib.pyplot as plt\n",
    "  \n",
    "# Ridge Regression\n",
    "  \n",
    "class RidgeRegression() :\n",
    "      \n",
    "    def __init__( self, learning_rate, iterations, l2_penality ) :\n",
    "          \n",
    "        self.learning_rate = learning_rate        \n",
    "        self.iterations = iterations        \n",
    "        self.l2_penality = l2_penality\n",
    "          \n",
    "    # Function for model training            \n",
    "    def fit( self, X, Y ) :\n",
    "          \n",
    "        # no_of_training_examples, no_of_features        \n",
    "        self.m, self.n = X.shape\n",
    "          \n",
    "        # weight initialization        \n",
    "        self.W = np.zeros( self.n )\n",
    "          \n",
    "        self.b = 0        \n",
    "        self.X = X        \n",
    "        self.Y = Y\n",
    "          \n",
    "        # gradient descent learning\n",
    "                  \n",
    "        for i in range( self.iterations ) :            \n",
    "            self.update_weights()            \n",
    "        return self\n",
    "      \n",
    "    # Helper function to update weights in gradient descent\n",
    "      \n",
    "    def update_weights( self ) :           \n",
    "        Y_pred = self.predict( self.X )\n",
    "          \n",
    "        # calculate gradients      \n",
    "        dW = ( - ( 2 * ( self.X.T ).dot( self.Y - Y_pred ) ) +               \n",
    "               ( 2 * self.l2_penality * self.W ) ) / self.m     \n",
    "        db = - 2 * np.sum( self.Y - Y_pred ) / self.m \n",
    "          \n",
    "        # update weights    \n",
    "        self.W = self.W - self.learning_rate * dW    \n",
    "        self.b = self.b - self.learning_rate * db        \n",
    "        return self\n",
    "      \n",
    "    # Hypothetical function  h( x ) \n",
    "    def predict( self, X ) :    \n",
    "        return X.dot( self.W ) + self.b"
   ]
  },
  {
   "cell_type": "code",
   "execution_count": 155,
   "id": "899de778-b264-49ea-a894-89de9863995a",
   "metadata": {},
   "outputs": [],
   "source": [
    "D_X, D_y = np.loadtxt(\"train.dat\", usecols=(0,1), unpack=True)\n",
    "T_X, T_y = np.loadtxt(\"test.dat\", usecols=(0,1), unpack=True)\n",
    "X = D_X.reshape(-1,1)\n",
    "XT = T_X.reshape(-1,1)\n",
    "y = D_y\n",
    "X_scaled = (X - np.mean(X))/np.std(X)\n",
    "poly = PolynomialFeatures(degree=4)\n",
    "X_trans = poly.fit_transform(X_scaled)\n",
    "\n",
    "TX_scaled = (XT - np.mean(XT))/np.std(XT)\n",
    "TX_scaled_po = poly.fit_transform(TX_scaled)"
   ]
  },
  {
   "cell_type": "code",
   "execution_count": 156,
   "id": "781a3f49-c584-4bbe-96cf-9db3a2c39f41",
   "metadata": {},
   "outputs": [],
   "source": [
    "model = RidgeRegression( iterations = 1000,                             \n",
    "                            learning_rate = 0.01, l2_penality = 1 )"
   ]
  },
  {
   "cell_type": "code",
   "execution_count": 157,
   "id": "5d2e4edf-0d09-44e6-a192-cecc593e78cc",
   "metadata": {},
   "outputs": [
    {
     "data": {
      "text/plain": [
       "<__main__.RidgeRegression at 0x29026987c40>"
      ]
     },
     "execution_count": 157,
     "metadata": {},
     "output_type": "execute_result"
    }
   ],
   "source": [
    "model.fit( X_trans, y )"
   ]
  },
  {
   "cell_type": "code",
   "execution_count": 158,
   "id": "056ffc35-938d-4b94-8ea4-2b3ddde8c1dd",
   "metadata": {},
   "outputs": [],
   "source": [
    "Y_pred = model.predict( TX_scaled_po ) "
   ]
  },
  {
   "cell_type": "code",
   "execution_count": 159,
   "id": "88694d00-228e-4fac-b161-a6b87e95e923",
   "metadata": {},
   "outputs": [
    {
     "data": {
      "text/plain": [
       "array([1998., 2008., 1975., 2004., 1980., 2002., 2007., 1979., 1992.,\n",
       "       1982., 2017., 1991., 1981., 1977., 1976., 1973., 2001., 1999.,\n",
       "       1974., 2003., 2005., 1993., 1988., 1994., 1997., 2018., 1989.,\n",
       "       1987., 2012., 2019., 2000., 1971., 2006., 1970., 2021., 2014.,\n",
       "       1986., 1984., 1978., 1996., 2015., 2020.])"
      ]
     },
     "execution_count": 159,
     "metadata": {},
     "output_type": "execute_result"
    }
   ],
   "source": [
    "D_X"
   ]
  },
  {
   "cell_type": "code",
   "execution_count": 160,
   "id": "35e53dab-a0be-4bcb-a9ca-98f604276286",
   "metadata": {},
   "outputs": [
    {
     "name": "stderr",
     "output_type": "stream",
     "text": [
      "C:\\Users\\SS Studios\\anaconda3\\lib\\site-packages\\seaborn\\_decorators.py:36: FutureWarning: Pass the following variables as keyword args: x, y. From version 0.12, the only valid positional argument will be `data`, and passing other arguments without an explicit keyword will result in an error or misinterpretation.\n",
      "  warnings.warn(\n",
      "C:\\Users\\SS Studios\\anaconda3\\lib\\site-packages\\seaborn\\_decorators.py:36: FutureWarning: Pass the following variables as keyword args: x, y. From version 0.12, the only valid positional argument will be `data`, and passing other arguments without an explicit keyword will result in an error or misinterpretation.\n",
      "  warnings.warn(\n"
     ]
    },
    {
     "data": {
      "text/plain": [
       "<AxesSubplot:>"
      ]
     },
     "execution_count": 160,
     "metadata": {},
     "output_type": "execute_result"
    },
    {
     "data": {
      "image/png": "[encoded data removed]",
      "text/plain": [
       "<Figure size 640x480 with 1 Axes>"
      ]
     },
     "metadata": {},
     "output_type": "display_data"
    }
   ],
   "source": [
    "import seaborn as plt\n",
    "plt.lineplot(T_X,T_y)\n",
    "plt.lineplot(T_X,Y_pred)"
   ]
  },
  {
   "cell_type": "code",
   "execution_count": 161,
   "id": "ad67ff50-94c4-4668-88ae-4aa38dae4390",
   "metadata": {},
   "outputs": [
    {
     "data": {
      "text/plain": [
       "array([65.88791334, 67.21901249, 64.3206674 , 66.92166376, 66.11401206,\n",
       "       66.59359495, 67.29843266, 65.96910343, 65.4752471 , 66.2797506 ,\n",
       "       65.62325127, 65.58762306, 66.23720265, 65.26999151, 64.84324978,\n",
       "       63.34073035, 66.40316557, 66.04316515, 63.87068233, 66.73921392,\n",
       "       67.11898948, 65.37437138, 66.22703075, 65.36499928, 65.71061236,\n",
       "       65.35474362, 66.00611589, 66.368468  , 66.78334217, 65.08089532,\n",
       "       66.20761473, 62.29623387, 67.26293826, 61.93885757, 64.92412865,\n",
       "       66.31769921, 66.45910062, 66.34765   , 65.65052   , 65.53492   ,\n",
       "       66.11388   , 65.08628   ])"
      ]
     },
     "execution_count": 161,
     "metadata": {},
     "output_type": "execute_result"
    }
   ],
   "source": [
    "y"
   ]
  },
  {
   "cell_type": "code",
   "execution_count": null,
   "id": "879d6aa2-51e0-46ba-a89d-4bc9550cdf87",
   "metadata": {},
   "outputs": [],
   "source": []
  }
 ],
 "metadata": {
  "kernelspec": {
   "display_name": "Python 3 (ipykernel)",
   "language": "python",
   "name": "python3"
  },
  "language_info": {
   "codemirror_mode": {
    "name": "ipython",
    "version": 3
   },
   "file_extension": ".py",
   "mimetype": "text/x-python",
   "name": "python",
   "nbconvert_exporter": "python",
   "pygments_lexer": "ipython3",
   "version": "3.9.13"
  }
 },
 "nbformat": 4,
 "nbformat_minor": 5
}
