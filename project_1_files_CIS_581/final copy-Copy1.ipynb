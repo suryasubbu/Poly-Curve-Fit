{
 "cells": [
  {
   "cell_type": "code",
   "execution_count": 11,
   "id": "94b32d1d",
   "metadata": {},
   "outputs": [],
   "source": [
    "import numpy as np\n",
    "from sklearn import preprocessing\n",
    "from sklearn.linear_model import Ridge\n",
    "from sklearn.preprocessing import PolynomialFeatures\n",
    "import math\n",
    "from sklearn.linear_model import RidgeCV\n",
    "from sklearn.model_selection import KFold, cross_val_score\n",
    "D_X, D_y = np.loadtxt(\"train.dat\", usecols=(0,1), unpack=True)\n",
    "deg = np.arange(0,13)\n",
    "lambda_val_ = [0,math.exp(-25),math.exp(-20),\n",
    "             math.exp(-4),math.exp(-7),\n",
    "             math.exp(-3),1,math.exp(7),\n",
    "             math.exp(3)]\n",
    "n_samples = D_X.shape[0]\n",
    "indices = np.arange(0,42)\n",
    "fold_size = int(n_samples / 6)\n",
    "scores = []\n",
    "y__d=[]\n",
    "X = D_X.reshape(-1,1)\n",
    "y = D_y.reshape(-1,1)\n",
    "for d in deg:\n",
    "        for i in range(6):\n",
    "            start, end = i*fold_size, (i+1)*fold_size\n",
    "            test_indices = indices[start:end]\n",
    "            train_indices = np.concatenate((indices[:start], indices[end:]))\n",
    "            X_train, y_train = X[train_indices], y[train_indices]\n",
    "            X_test, y_test = X[test_indices], y[test_indices]\n",
    "            Xt_scaled = (X_train - np.mean(X_train))/np.std(X_train)\n",
    "            Xtt_scaled = (X_test - np.mean(X_test))/np.std(X_test)\n",
    "            poly = PolynomialFeatures(degree=d)\n",
    "            X_trans = poly.fit_transform(Xt_scaled)\n",
    "            X_trans_T = poly.fit_transform(Xtt_scaled)\n",
    "            #print(X_trans.shape)\n",
    "            # Create generalized linear regression object\n",
    "            #identity_matrix = np.identity(d +1)\n",
    "            #w = (np.linalg.inv(X_trans.T @ X_trans + lambda_val * identity_matrix) @ X_trans.T @ y_train)\n",
    "            #y_d = X_trans_T @ w\n",
    "            #regr = Ridge(alpha=lambda_val,fit_intercept=False,solver='cholesky')\n",
    "            #regr.fit(X_trans, y_train)\n",
    "            #y_d = regr.predict(X_trans_T)\n",
    "            #y__d.append(y_d)\n",
    "            clf = RidgeCV(alphas=[0.01,math.exp(-25),math.exp(-20),\n",
    "             math.exp(-4),math.exp(-7),\n",
    "             math.exp(-3),1,math.exp(7),\n",
    "             math.exp(3)]).fit(X_trans, y_train)\n",
    "            s = clf.score(X_trans, y_train)\n",
    "            #print(\"lambda = {} and d:{}\".format(lambda_val,d),i)\n",
    "            #score = math.sqrt((np.square(y_test-y_d).mean()))\n",
    "            scores.append([d,s,i])"
   ]
  },
  {
   "cell_type": "code",
   "execution_count": 69,
   "id": "bd56fc58",
   "metadata": {},
   "outputs": [],
   "source": [
    "D_X, D_y = np.loadtxt(\"train.dat\", usecols=(0,1), unpack=True)\n",
    "X = D_X.reshape(-1,1)\n",
    "y = D_y"
   ]
  },
  {
   "cell_type": "code",
   "execution_count": 106,
   "id": "ae15f4df",
   "metadata": {},
   "outputs": [],
   "source": [
    "x_scale = (X - np.mean(X))/np.std(X)\n",
    "poly = PolynomialFeatures(degree=2)\n",
    "X_trans = poly.fit_transform(x_scale)"
   ]
  },
  {
   "cell_type": "code",
   "execution_count": 107,
   "id": "1bb23b2b",
   "metadata": {},
   "outputs": [],
   "source": [
    "nfolds = 6\n",
    "ridge = Ridge(alpha = 0)\n",
    "CV = KFold(n_splits =nfolds,shuffle = False, random_state = None )"
   ]
  },
  {
   "cell_type": "code",
   "execution_count": 108,
   "id": "566d2962",
   "metadata": {},
   "outputs": [],
   "source": [
    "a = cross_val_score(ridge, X_trans, y, cv = CV, scoring = \"neg_mean_squared_error\")"
   ]
  },
  {
   "cell_type": "code",
   "execution_count": 109,
   "id": "de147183",
   "metadata": {},
   "outputs": [
    {
     "data": {
      "text/plain": [
       "0.7754293123514143"
      ]
     },
     "execution_count": 109,
     "metadata": {},
     "output_type": "execute_result"
    }
   ],
   "source": [
    "np.sqrt(-a).mean()"
   ]
  },
  {
   "cell_type": "code",
   "execution_count": 52,
   "id": "050d2417",
   "metadata": {},
   "outputs": [
    {
     "data": {
      "text/plain": [
       "array([-0.45729046, -0.81455987, -0.18061198, -0.67207644, -1.34663586,\n",
       "       -0.44699901])"
      ]
     },
     "execution_count": 52,
     "metadata": {},
     "output_type": "execute_result"
    }
   ],
   "source": [
    "a"
   ]
  },
  {
   "cell_type": "code",
   "execution_count": null,
   "id": "6f2a4c92",
   "metadata": {},
   "outputs": [],
   "source": []
  }
 ],
 "metadata": {
  "kernelspec": {
   "display_name": "Python 3 (ipykernel)",
   "language": "python",
   "name": "python3"
  },
  "language_info": {
   "codemirror_mode": {
    "name": "ipython",
    "version": 3
   },
   "file_extension": ".py",
   "mimetype": "text/x-python",
   "name": "python",
   "nbconvert_exporter": "python",
   "pygments_lexer": "ipython3",
   "version": "3.9.13"
  }
 },
 "nbformat": 4,
 "nbformat_minor": 5
}
