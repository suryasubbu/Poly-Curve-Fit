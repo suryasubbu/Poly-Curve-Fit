{
 "cells": [
  {
   "cell_type": "code",
   "execution_count": 1,
   "id": "94b32d1d",
   "metadata": {},
   "outputs": [
    {
     "name": "stdout",
     "output_type": "stream",
     "text": [
      "lambda and d: 0 0\n",
      "RMSE: 1.222377643247526\n",
      "lambda and d: 0 1.3887943864964021e-11\n",
      "RMSE: 1.222377643263691\n",
      "lambda and d: 0 2.061153622438558e-09\n",
      "RMSE: 1.2223776456454172\n",
      "lambda and d: 0 0.01831563888873418\n",
      "RMSE: 1.2439649746793988\n",
      "lambda and d: 0 0.0009118819655545162\n",
      "RMSE: 1.2234392060608579\n",
      "lambda and d: 0 0.049787068367863944\n",
      "RMSE: 1.2822968913515846\n",
      "lambda and d: 0 1\n",
      "RMSE: 2.752739636229503\n",
      "lambda and d: 0 1096.6331584284585\n",
      "RMSE: 64.31537961925062\n",
      "lambda and d: 0 20.085536923187668\n",
      "RMSE: 24.68874933922398\n",
      "lambda and d: 1 0\n",
      "RMSE: 0.9506983142764158\n",
      "lambda and d: 1 1.3887943864964021e-11\n",
      "RMSE: 0.9506983142972705\n",
      "lambda and d: 1 2.061153622438558e-09\n",
      "RMSE: 0.9506983173699927\n",
      "lambda and d: 1 0.01831563888873418\n",
      "RMSE: 0.9783892240373802\n",
      "lambda and d: 1 0.0009118819655545162\n",
      "RMSE: 0.9520674651389832\n",
      "lambda and d: 1 0.049787068367863944\n",
      "RMSE: 1.026832502175825\n",
      "lambda and d: 1 1\n",
      "RMSE: 2.6451384885756757\n",
      "lambda and d: 1 1096.6331584284585\n",
      "RMSE: 64.31517867049162\n",
      "lambda and d: 1 20.085536923187668\n",
      "RMSE: 24.679963032676262\n",
      "lambda and d: 2 0\n",
      "RMSE: 1.1527914410170144\n",
      "lambda and d: 2 1.3887943864964021e-11\n",
      "RMSE: 1.1527914410116973\n",
      "lambda and d: 2 2.061153622438558e-09\n",
      "RMSE: 1.152791440228615\n",
      "lambda and d: 2 0.01831563888873418\n",
      "RMSE: 1.147342017417414\n",
      "lambda and d: 2 0.0009118819655545162\n",
      "RMSE: 1.1524464830597092\n",
      "lambda and d: 2 0.049787068367863944\n",
      "RMSE: 1.1452551799318957\n",
      "lambda and d: 2 1\n",
      "RMSE: 3.095843955964244\n",
      "lambda and d: 2 1096.6331584284585\n",
      "RMSE: 62.523800912211115\n",
      "lambda and d: 2 20.085536923187668\n",
      "RMSE: 24.564611252327932\n",
      "lambda and d: 3 0\n",
      "RMSE: 1.441346679207753\n",
      "lambda and d: 3 1.3887943864964021e-11\n",
      "RMSE: 1.4413466792058989\n",
      "lambda and d: 3 2.061153622438558e-09\n",
      "RMSE: 1.4413466789332166\n",
      "lambda and d: 3 0.01831563888873418\n",
      "RMSE: 1.4401448072854288\n",
      "lambda and d: 3 0.0009118819655545162\n",
      "RMSE: 1.4412282825135876\n",
      "lambda and d: 3 0.049787068367863944\n",
      "RMSE: 1.4438119213479992\n",
      "lambda and d: 3 1\n",
      "RMSE: 3.269735764005778\n",
      "lambda and d: 3 1096.6331584284585\n",
      "RMSE: 62.785030664404815\n",
      "lambda and d: 3 20.085536923187668\n",
      "RMSE: 24.593791701254798\n",
      "lambda and d: 4 0\n",
      "RMSE: 2.0468536237582744\n",
      "lambda and d: 4 1.3887943864964021e-11\n",
      "RMSE: 2.0468536237822\n",
      "lambda and d: 4 2.061153622438558e-09\n",
      "RMSE: 2.0468536272972564\n",
      "lambda and d: 4 0.01831563888873418\n",
      "RMSE: 2.0785038592471974\n",
      "lambda and d: 4 0.0009118819655545162\n",
      "RMSE: 2.0484197893624265\n",
      "lambda and d: 4 0.049787068367863944\n",
      "RMSE: 2.133678833262586\n",
      "lambda and d: 4 1\n",
      "RMSE: 3.7523916095387473\n",
      "lambda and d: 4 1096.6331584284585\n",
      "RMSE: 58.75096511109844\n",
      "lambda and d: 4 20.085536923187668\n",
      "RMSE: 26.520221257041293\n",
      "lambda and d: 5 0\n",
      "RMSE: 2.266543617395281\n",
      "lambda and d: 5 1.3887943864964021e-11\n",
      "RMSE: 2.2665436174227667\n",
      "lambda and d: 5 2.061153622438558e-09\n",
      "RMSE: 2.2665436214542476\n",
      "lambda and d: 5 0.01831563888873418\n",
      "RMSE: 2.3025608681137673\n",
      "lambda and d: 5 0.0009118819655545162\n",
      "RMSE: 2.2683393854552603\n",
      "lambda and d: 5 0.049787068367863944\n",
      "RMSE: 2.364131551399786\n",
      "lambda and d: 5 1\n",
      "RMSE: 3.9699166897259595\n",
      "lambda and d: 5 1096.6331584284585\n",
      "RMSE: 59.721482760598235\n",
      "lambda and d: 5 20.085536923187668\n",
      "RMSE: 26.517526307503626\n",
      "lambda and d: 6 0\n",
      "RMSE: 1.300739388274735\n",
      "lambda and d: 6 1.3887943864964021e-11\n",
      "RMSE: 1.3007393882929075\n",
      "lambda and d: 6 2.061153622438558e-09\n",
      "RMSE: 1.3007393909956189\n",
      "lambda and d: 6 0.01831563888873418\n",
      "RMSE: 1.3270190315428547\n",
      "lambda and d: 6 0.0009118819655545162\n",
      "RMSE: 1.3019479890709502\n",
      "lambda and d: 6 0.049787068367863944\n",
      "RMSE: 1.3808228289442677\n",
      "lambda and d: 6 1\n",
      "RMSE: 4.061425376274458\n",
      "lambda and d: 6 1096.6331584284585\n",
      "RMSE: 56.96859120143237\n",
      "lambda and d: 6 20.085536923187668\n",
      "RMSE: 24.953817378651152\n",
      "lambda and d: 7 0\n",
      "RMSE: 1.1819544545088156\n",
      "lambda and d: 7 1.3887943864964021e-11\n",
      "RMSE: 1.1819544545435325\n",
      "lambda and d: 7 2.061153622438558e-09\n",
      "RMSE: 1.181954460420977\n",
      "lambda and d: 7 0.01831563888873418\n",
      "RMSE: 1.2322510215493017\n",
      "lambda and d: 7 0.0009118819655545162\n",
      "RMSE: 1.1845626609585533\n",
      "lambda and d: 7 0.049787068367863944\n",
      "RMSE: 1.315349764460836\n",
      "lambda and d: 7 1\n",
      "RMSE: 4.306464794080376\n",
      "lambda and d: 7 1096.6331584284585\n",
      "RMSE: 56.970470564164465\n",
      "lambda and d: 7 20.085536923187668\n",
      "RMSE: 24.947201962595905\n",
      "lambda and d: 8 0\n",
      "RMSE: 1.6051775799778634\n",
      "lambda and d: 8 1.3887943864964021e-11\n",
      "RMSE: 1.6051775795515784\n",
      "lambda and d: 8 2.061153622438558e-09\n",
      "RMSE: 1.6051775124957015\n",
      "lambda and d: 8 0.01831563888873418\n",
      "RMSE: 1.2775406675245975\n",
      "lambda and d: 8 0.0009118819655545162\n",
      "RMSE: 1.5765177223255855\n",
      "lambda and d: 8 0.049787068367863944\n",
      "RMSE: 1.1027439095942244\n",
      "lambda and d: 8 1\n",
      "RMSE: 2.737166554619938\n",
      "lambda and d: 8 1096.6331584284585\n",
      "RMSE: 63.000939429851215\n",
      "lambda and d: 8 20.085536923187668\n",
      "RMSE: 27.88136583457678\n",
      "lambda and d: 9 0\n",
      "RMSE: 1.5183669080758917\n",
      "lambda and d: 9 1.3887943864964021e-11\n",
      "RMSE: 1.5183669073668224\n",
      "lambda and d: 9 2.061153622438558e-09\n",
      "RMSE: 1.518366798359562\n",
      "lambda and d: 9 0.01831563888873418\n",
      "RMSE: 1.0906807293888827\n",
      "lambda and d: 9 0.0009118819655545162\n",
      "RMSE: 1.473129361905323\n",
      "lambda and d: 9 0.049787068367863944\n",
      "RMSE: 0.9311534317249275\n",
      "lambda and d: 9 1\n",
      "RMSE: 2.6937765832221228\n",
      "lambda and d: 9 1096.6331584284585\n",
      "RMSE: 65.90493127804837\n",
      "lambda and d: 9 20.085536923187668\n",
      "RMSE: 28.645366204687303\n",
      "lambda and d: 10 0\n",
      "RMSE: 0.9326090013832647\n",
      "lambda and d: 10 1.3887943864964021e-11\n",
      "RMSE: 0.9326090059849617\n",
      "lambda and d: 10 2.061153622438558e-09\n",
      "RMSE: 0.9326095734320241\n",
      "lambda and d: 10 0.01831563888873418\n",
      "RMSE: 1.7152593752560559\n",
      "lambda and d: 10 0.0009118819655545162\n",
      "RMSE: 1.1630005790878504\n",
      "lambda and d: 10 0.049787068367863944\n",
      "RMSE: 1.6258432008103936\n",
      "lambda and d: 10 1\n",
      "RMSE: 3.457469379172501\n",
      "lambda and d: 10 1096.6331584284585\n",
      "RMSE: 64.99198722873727\n",
      "lambda and d: 10 20.085536923187668\n",
      "RMSE: 33.433824827837\n",
      "lambda and d: 11 0\n",
      "RMSE: 0.8248188039184629\n",
      "lambda and d: 11 1.3887943864964021e-11\n",
      "RMSE: 0.8248188002121634\n",
      "lambda and d: 11 2.061153622438558e-09\n",
      "RMSE: 0.824818710702066\n",
      "lambda and d: 11 0.01831563888873418\n",
      "RMSE: 1.6689980950085666\n",
      "lambda and d: 11 0.0009118819655545162\n",
      "RMSE: 1.033622837792606\n",
      "lambda and d: 11 0.049787068367863944\n",
      "RMSE: 1.4882336188083671\n",
      "lambda and d: 11 1\n",
      "RMSE: 4.772859281970766\n",
      "lambda and d: 11 1096.6331584284585\n",
      "RMSE: 71.16078638321761\n",
      "lambda and d: 11 20.085536923187668\n",
      "RMSE: 36.71947307448479\n",
      "lambda and d: 12 0\n",
      "RMSE: 1.3324384271668719\n",
      "lambda and d: 12 1.3887943864964021e-11\n",
      "RMSE: 1.3324384629573154\n",
      "lambda and d: 12 2.061153622438558e-09\n",
      "RMSE: 1.3324284625957754\n",
      "lambda and d: 12 0.01831563888873418\n",
      "RMSE: 1.493393436771015\n",
      "lambda and d: 12 0.0009118819655545162\n",
      "RMSE: 0.8374981617923721\n",
      "lambda and d: 12 0.049787068367863944\n",
      "RMSE: 2.1298598791069274\n",
      "lambda and d: 12 1\n",
      "RMSE: 2.9731216465931527\n",
      "lambda and d: 12 1096.6331584284585\n",
      "RMSE: 56.53991502366931\n",
      "lambda and d: 12 20.085536923187668\n",
      "RMSE: 28.72817439111025\n"
     ]
    }
   ],
   "source": [
    "import numpy as np\n",
    "from sklearn import preprocessing\n",
    "from sklearn.linear_model import Ridge\n",
    "from sklearn.preprocessing import PolynomialFeatures\n",
    "import math\n",
    "D_X, D_y = np.loadtxt(\"train.dat\", usecols=(0,1), unpack=True)\n",
    "deg = np.arange(0,13)\n",
    "lambda_val_ = [0,math.exp(-25),math.exp(-20),\n",
    "             math.exp(-4),math.exp(-7),\n",
    "             math.exp(-3),1,math.exp(7),\n",
    "             math.exp(3)]\n",
    "\n",
    "y__d=[]\n",
    "for d in deg:\n",
    "    for lambda_val in lambda_val_: \n",
    "        X_train = D_X.reshape(-1,1)[7:42]\n",
    "        X_test = D_X.reshape(-1,1)[0:7]\n",
    "        y_train = D_y.reshape(-1,1)[7:42]\n",
    "        y_test = D_y.reshape(-1,1)[0:7]\n",
    "        Xt_scaled = (X_train - np.mean(X_train))/np.std(X_train)\n",
    "        Xtt_scaled = (X_test - np.mean(X_test))/np.std(X_test)\n",
    "        poly = PolynomialFeatures(degree=d)\n",
    "        X_trans = poly.fit_transform(Xt_scaled)\n",
    "        X_trans_T = poly.fit_transform(Xtt_scaled)\n",
    "        #print(X_trans.shape)\n",
    "        # Create generalized linear regression object\n",
    "        identity_matrix = np.identity(d +1)\n",
    "        w = (np.linalg.inv(X_trans.T @ X_trans + lambda_val * identity_matrix) @ X_trans.T @ y_train)\n",
    "        y_d = X_trans_T @ w\n",
    "        y__d.append(y_d)\n",
    "        print(\"lambda and d:\",d,lambda_val)\n",
    "        print(\"RMSE:\",math.sqrt((np.square(y_test-y_d).mean())))\n"
   ]
  },
  {
   "cell_type": "code",
   "execution_count": 3,
   "id": "4e0a6844-9e8e-43c0-8a20-9ce803dfe38b",
   "metadata": {},
   "outputs": [
    {
     "data": {
      "text/plain": [
       "array([65.88791334, 67.21901249, 64.3206674 , 66.92166376, 66.11401206,\n",
       "       66.59359495, 67.29843266])"
      ]
     },
     "execution_count": 3,
     "metadata": {},
     "output_type": "execute_result"
    }
   ],
   "source": [
    "y_test.flatten()"
   ]
  },
  {
   "cell_type": "code",
   "execution_count": 4,
   "id": "627cac03",
   "metadata": {},
   "outputs": [
    {
     "name": "stderr",
     "output_type": "stream",
     "text": [
      "C:\\Users\\SS Studios\\anaconda3\\lib\\site-packages\\seaborn\\_decorators.py:36: FutureWarning: Pass the following variables as keyword args: x, y. From version 0.12, the only valid positional argument will be `data`, and passing other arguments without an explicit keyword will result in an error or misinterpretation.\n",
      "  warnings.warn(\n",
      "C:\\Users\\SS Studios\\anaconda3\\lib\\site-packages\\seaborn\\_decorators.py:36: FutureWarning: Pass the following variables as keyword args: x, y. From version 0.12, the only valid positional argument will be `data`, and passing other arguments without an explicit keyword will result in an error or misinterpretation.\n",
      "  warnings.warn(\n"
     ]
    },
    {
     "data": {
      "text/plain": [
       "<AxesSubplot:>"
      ]
     },
     "execution_count": 4,
     "metadata": {},
     "output_type": "execute_result"
    },
    {
     "data": {
      "image/png": "[encoded data removed]",
      "text/plain": [
       "<Figure size 640x480 with 1 Axes>"
      ]
     },
     "metadata": {},
     "output_type": "display_data"
    }
   ],
   "source": [
    "import seaborn as plt\n",
    "plt.lineplot(Xtt_scaled.flatten(),y_d.flatten())\n",
    "plt.lineplot(Xtt_scaled.flatten(),y_test.flatten())"
   ]
  },
  {
   "cell_type": "code",
   "execution_count": 143,
   "id": "127a8e14",
   "metadata": {},
   "outputs": [
    {
     "name": "stdout",
     "output_type": "stream",
     "text": [
      "RMSE: 3.269735764005778\n"
     ]
    }
   ],
   "source": [
    "import math\n",
    "print(\"RMSE:\",math.sqrt((np.square(y_test-y_d).mean())))"
   ]
  },
  {
   "cell_type": "code",
   "execution_count": 129,
   "id": "4c22af89",
   "metadata": {},
   "outputs": [
    {
     "data": {
      "text/plain": [
       "(7, 1)"
      ]
     },
     "execution_count": 129,
     "metadata": {},
     "output_type": "execute_result"
    }
   ],
   "source": [
    "X[35:42].shape"
   ]
  },
  {
   "cell_type": "code",
   "execution_count": 154,
   "id": "285c68d3-7d82-4590-a542-7f13a88452b1",
   "metadata": {},
   "outputs": [
    {
     "ename": "ValueError",
     "evalue": "cannot delete array elements",
     "output_type": "error",
     "traceback": [
      "\u001b[1;31m---------------------------------------------------------------------------\u001b[0m",
      "\u001b[1;31mValueError\u001b[0m                                Traceback (most recent call last)",
      "\u001b[1;32m~\\AppData\\Local\\Temp\\ipykernel_11152\\4057768907.py\u001b[0m in \u001b[0;36m<module>\u001b[1;34m\u001b[0m\n\u001b[1;32m----> 1\u001b[1;33m \u001b[1;32mdel\u001b[0m \u001b[0mD_X\u001b[0m\u001b[1;33m[\u001b[0m\u001b[1;36m0\u001b[0m\u001b[1;33m:\u001b[0m\u001b[1;36m7\u001b[0m\u001b[1;33m]\u001b[0m\u001b[1;33m\u001b[0m\u001b[1;33m\u001b[0m\u001b[0m\n\u001b[0m",
      "\u001b[1;31mValueError\u001b[0m: cannot delete array elements"
     ]
    }
   ],
   "source": [
    "del D_X[0:7]"
   ]
  },
  {
   "cell_type": "code",
   "execution_count": 15,
   "id": "614c2cba-d4b1-4898-acac-58b2a6d04116",
   "metadata": {},
   "outputs": [],
   "source": [
    "n_samples = D_X.shape[0]\n",
    "indices = np.arange(0,42)\n",
    "fold_size = int(n_samples / 6)\n",
    "scores = []\n",
    "for i in range(6):\n",
    "    start, end = i*fold_size, (i+1)*fold_size\n",
    "    test_indices = indices[start:end]\n",
    "    train_indices = np.concatenate((indices[:start], indices[end:]))"
   ]
  },
  {
   "cell_type": "code",
   "execution_count": 17,
   "id": "3ea90bc8",
   "metadata": {},
   "outputs": [
    {
     "data": {
      "text/plain": [
       "array([ 0,  1,  2,  3,  4,  5,  6,  7,  8,  9, 10, 11, 12, 13, 14, 15, 16,\n",
       "       17, 18, 19, 20, 21, 22, 23, 24, 25, 26, 27, 28, 29, 30, 31, 32, 33,\n",
       "       34])"
      ]
     },
     "execution_count": 17,
     "metadata": {},
     "output_type": "execute_result"
    }
   ],
   "source": [
    "train_indices"
   ]
  },
  {
   "cell_type": "code",
   "execution_count": 6,
   "id": "8a616abb",
   "metadata": {},
   "outputs": [
    {
     "data": {
      "text/plain": [
       "array([1998., 2008., 1975., 2004., 1980., 2002., 2007., 1979., 1992.,\n",
       "       1982., 2017., 1991., 1981., 1977., 1976., 1973., 2001., 1999.,\n",
       "       1974., 2003., 2005., 1993., 1988., 1994., 1997., 2018., 1989.,\n",
       "       1987., 2012., 2019., 2000., 1971., 2006., 1970., 2021., 2014.,\n",
       "       1986., 1984., 1978., 1996., 2015., 2020.])"
      ]
     },
     "execution_count": 6,
     "metadata": {},
     "output_type": "execute_result"
    }
   ],
   "source": [
    "D_X"
   ]
  },
  {
   "cell_type": "code",
   "execution_count": null,
   "id": "3ad698b4",
   "metadata": {},
   "outputs": [],
   "source": []
  }
 ],
 "metadata": {
  "kernelspec": {
   "display_name": "Python 3 (ipykernel)",
   "language": "python",
   "name": "python3"
  },
  "language_info": {
   "codemirror_mode": {
    "name": "ipython",
    "version": 3
   },
   "file_extension": ".py",
   "mimetype": "text/x-python",
   "name": "python",
   "nbconvert_exporter": "python",
   "pygments_lexer": "ipython3",
   "version": "3.9.13"
  }
 },
 "nbformat": 4,
 "nbformat_minor": 5
}
